{
 "cells": [
  {
   "cell_type": "markdown",
   "metadata": {
    "nbpresent": {
     "id": "255e14cc-fa6f-48bb-8721-88ffb1645b26"
    }
   },
   "source": [
    "This tutorial is for the 6th chapter of *State Estimation for Robtics*.  \n",
    "Author: Hongpu Liu"
   ]
  },
  {
   "cell_type": "code",
   "execution_count": 1,
   "metadata": {
    "collapsed": true,
    "nbpresent": {
     "id": "e2cd5d7a-90d0-4b8c-95fc-568cb1bc8cd3"
    }
   },
   "outputs": [],
   "source": [
    "%matplotlib inline\n",
    "from __future__ import print_function, division\n",
    "import numpy as np\n",
    "import matplotlib.pyplot as plt"
   ]
  },
  {
   "cell_type": "markdown",
   "metadata": {
    "nbpresent": {
     "id": "13f9c4bc-ba38-49e7-8ba7-7cce09b94659"
    }
   },
   "source": [
    "# CHAPTER 6: Primer on Three-Dimensional Geometry"
   ]
  },
  {
   "cell_type": "markdown",
   "metadata": {
    "nbpresent": {
     "id": "6f1c43d7-025b-43d7-a32a-5f67c36e2d07"
    }
   },
   "source": [
    "## 6.1 Vectors and Reference Frames"
   ]
  },
  {
   "cell_type": "markdown",
   "metadata": {
    "nbpresent": {
     "id": "4afa9dfc-6561-4ade-9568-8fefa5dd9c50"
    }
   },
   "source": [
    "### 6.1.2 Dot Product"
   ]
  },
  {
   "cell_type": "code",
   "execution_count": 2,
   "metadata": {
    "collapsed": false,
    "nbpresent": {
     "id": "8fad17dc-8d02-4b61-9f1b-70e28cd6e9b1"
    }
   },
   "outputs": [
    {
     "name": "stdout",
     "output_type": "stream",
     "text": [
      "r dot s by hand:  32\n",
      "r dot s by np.inner:  32\n",
      "r dot s by np.dot:  32\n"
     ]
    }
   ],
   "source": [
    "# 1 x 4 + 2 x 5 + 3 x 6 = 32\n",
    "r = np.array([1, 2, 3])\n",
    "s = np.array([4, 5, 6])\n",
    "\n",
    "# computer by hand\n",
    "print('r dot s by hand: ', 1 * 4 + 2 * 5 + 3 * 6)\n",
    "\n",
    "# use np.inner to cumpute dot product.\n",
    "# NOTE: r and s MUST be array-like\n",
    "r_dot_s = np.inner(r, s)\n",
    "print('r dot s by np.inner: ', r_dot_s)\n",
    "\n",
    "# use np.dot to cumpute dot product.\n",
    "# NOTE: r and s MUST be an ndarray, a.k.a. a Matrix\n",
    "r.reshape((3, 1))\n",
    "s.reshape((3, 1))\n",
    "r_dot_s = r.T.dot(s)\n",
    "print('r dot s by np.dot: ', r_dot_s)"
   ]
  },
  {
   "cell_type": "markdown",
   "metadata": {},
   "source": [
    "### 6.1.3 Cross Product"
   ]
  },
  {
   "cell_type": "code",
   "execution_count": 3,
   "metadata": {
    "collapsed": false
   },
   "outputs": [
    {
     "name": "stdout",
     "output_type": "stream",
     "text": [
      "r cross s by np.cross: [-3  6 -3]\n"
     ]
    }
   ],
   "source": [
    "# use np.cross to compute cross product\n",
    "r = np.array([1, 2, 3])\n",
    "s = np.array([4, 5, 6])\n",
    "r_cross_s = np.cross(r, s)\n",
    "print('r cross s by np.cross:', r_cross_s)"
   ]
  },
  {
   "cell_type": "code",
   "execution_count": 4,
   "metadata": {
    "collapsed": true
   },
   "outputs": [],
   "source": [
    "# equation (6.2)\n",
    "def skew_symmetric(vec):\n",
    "    \"\"\"\n",
    "    Computer the skew_symmetric matrix from a vector\n",
    "    \n",
    "    Args:\n",
    "        vec: MUST be an array-like\n",
    "    \"\"\"\n",
    "    \n",
    "    vec = np.array(vec)\n",
    "    assert vec.shape == (3,), 'vec MUST have three entries'\n",
    "    skew = np.zeros((3, 3))\n",
    "    skew[0][1] = -vec[2]\n",
    "    skew[1][0] = vec[2]\n",
    "    skew[0][2] = vec[1]\n",
    "    skew[2][0] = -vec[1]\n",
    "    skew[1][2] = -vec[0]\n",
    "    skew[2][1] = vec[0]\n",
    "    return skew"
   ]
  },
  {
   "cell_type": "code",
   "execution_count": 5,
   "metadata": {
    "collapsed": false,
    "scrolled": true
   },
   "outputs": [
    {
     "name": "stdout",
     "output_type": "stream",
     "text": [
      "skew_symmetric of r:\n",
      " [[ 0. -3.  2.]\n",
      " [ 3.  0. -1.]\n",
      " [-2.  1.  0.]]\n",
      "r cross s by np.dot:\n",
      " [-3  6 -3]\n"
     ]
    }
   ],
   "source": [
    " # use np.dot and skew_symmetric matrix to compute cross product\n",
    "r = np.array([1, 2, 3])\n",
    "s = np.array([4, 5, 6])\n",
    "\n",
    "r = skew_symmetric(r)\n",
    "print('skew_symmetric of r:\\n', r)\n",
    "\n",
    "s = s.reshape((3, 1))\n",
    "r_corss_s = np.dot(r, s)\n",
    "print('r cross s by np.dot:\\n', r_cross_s)"
   ]
  },
  {
   "cell_type": "code",
   "execution_count": 6,
   "metadata": {
    "collapsed": false
   },
   "outputs": [
    {
     "name": "stdout",
     "output_type": "stream",
     "text": [
      "transpose of skew_symmetric of r:\n",
      " [[ 0.  3. -2.]\n",
      " [-3.  0.  1.]\n",
      " [ 2. -1.  0.]]\n",
      "minus skew_symmetric of r:\n",
      " [[-0.  3. -2.]\n",
      " [-3. -0.  1.]\n",
      " [ 2. -1. -0.]]\n"
     ]
    }
   ],
   "source": [
    "# transpose of skew_symmetric of r, equal minus skew_symmetric of r\n",
    "r = np.array([1, 2, 3])\n",
    "print('transpose of skew_symmetric of r:\\n', skew_symmetric(r).T)\n",
    "print('minus skew_symmetric of r:\\n', - skew_symmetric(r))"
   ]
  },
  {
   "cell_type": "code",
   "execution_count": 7,
   "metadata": {
    "collapsed": false
   },
   "outputs": [
    {
     "name": "stdout",
     "output_type": "stream",
     "text": [
      "r cross s:\n",
      " [[-3.]\n",
      " [ 6.]\n",
      " [-3.]]\n",
      "s cross r:\n",
      " [[ 3.]\n",
      " [-6.]\n",
      " [ 3.]]\n"
     ]
    }
   ],
   "source": [
    "# we'll find that r cross s == - s x r\n",
    "r = np.array([1, 2, 3])\n",
    "s = np.array([4, 5, 6])\n",
    "\n",
    "print('r cross s:\\n', np.dot(skew_symmetric(r), s.reshape((3, 1))))\n",
    "print('s cross r:\\n', np.dot(skew_symmetric(s), r.reshape((3, 1))))"
   ]
  },
  {
   "cell_type": "markdown",
   "metadata": {},
   "source": [
    "## 6.2 Rotation"
   ]
  },
  {
   "cell_type": "markdown",
   "metadata": {},
   "source": [
    "### 6.2.1 Rotation Matrics"
   ]
  },
  {
   "cell_type": "code",
   "execution_count": 8,
   "metadata": {
    "collapsed": false
   },
   "outputs": [
    {
     "name": "stdout",
     "output_type": "stream",
     "text": [
      "C_21:\n",
      " [[ 0. -1.  0.]\n",
      " [ 1.  0.  0.]\n",
      " [ 0.  0.  1.]]\n",
      "r1:\n",
      " [[1]\n",
      " [2]\n",
      " [3]]\n",
      "r2 (r1 in Frame2):\n",
      " [[-2.]\n",
      " [ 1.]\n",
      " [ 3.]]\n",
      "C_12 computed by inverse:\n",
      " [[ 0.  1.  0.]\n",
      " [-1. -0. -0.]\n",
      " [ 0.  0.  1.]]\n",
      "C_12 computed by transpose:\n",
      " [[ 0.  1.  0.]\n",
      " [-1.  0.  0.]\n",
      " [ 0.  0.  1.]]\n",
      "r1 transformed from r2 by C_12:\n",
      " [[1.]\n",
      " [2.]\n",
      " [3.]]\n"
     ]
    }
   ],
   "source": [
    "# define a rotation matrix, along z-axis rotate pi/2\n",
    "C_21 = np.array([0, -1, 0, 1, 0, 0, 0, 0, 1]).astype('float').reshape((3, 3))\n",
    "print('C_21:\\n', C_21)\n",
    "\n",
    "# r1 is in Frame1, we'll use C_21 transform to Frame2\n",
    "r1 = np.array([1, 2, 3]).reshape((3, 1))\n",
    "print('r1:\\n', r1)\n",
    "r2 = np.dot(C_21, r1)\n",
    "print('r2 (r1 in Frame2):\\n', r2)\n",
    "\n",
    "# now use inverse of C_21 transform r2 to Frame1\n",
    "C_12 = np.linalg.inv(C_21)\n",
    "print('C_12 computed by inverse:\\n', C_12)\n",
    "C_12 = C_21.T\n",
    "print('C_12 computed by transpose:\\n', C_12)\n",
    "\n",
    "# transform r2 back to Frame1\n",
    "r1 = np.dot(C_12, r2)\n",
    "print('r1 transformed from r2 by C_12:\\n', r1)"
   ]
  },
  {
   "cell_type": "code",
   "execution_count": 9,
   "metadata": {
    "collapsed": false
   },
   "outputs": [
    {
     "name": "stdout",
     "output_type": "stream",
     "text": [
      "r3 = C_32 C_21 r1:\n",
      " [[-1.]\n",
      " [-2.]\n",
      " [ 3.]]\n",
      "r3 = C_31 r1:\n",
      " [[-1.]\n",
      " [-2.]\n",
      " [ 3.]]\n"
     ]
    }
   ],
   "source": [
    "C_21 = np.array([0, -1, 0, 1, 0, 0, 0, 0, 1]).astype('float').reshape((3, 3))\n",
    "C_32 = np.array([0, -1, 0, 1, 0, 0, 0, 0, 1]).astype('float').reshape((3, 3))\n",
    "C_31 = np.dot(C_32, C_21)\n",
    "\n",
    "# r1 is in Frame1\n",
    "r1 = np.array([1, 2, 3]).reshape((3, 1))\n",
    "\n",
    "# r3 = C_32 C_21 r1\n",
    "r3 = np.dot(C_32, np.dot(C_21, r1))\n",
    "print('r3 = C_32 C_21 r1:\\n', r3)\n",
    "\n",
    "# r3 = C_31 r1\n",
    "r3 = np.dot(C_31, r1)\n",
    "print('r3 = C_31 r1:\\n', r3)\n",
    "\n",
    "# You'll find they are equal."
   ]
  },
  {
   "cell_type": "markdown",
   "metadata": {},
   "source": [
    "### 6.2.2 Principal Rotations"
   ]
  },
  {
   "cell_type": "code",
   "execution_count": 10,
   "metadata": {
    "collapsed": false
   },
   "outputs": [
    {
     "data": {
      "text/plain": [
       "array([[ 0.70710678,  0.70710678,  0.        ],\n",
       "       [-0.70710678,  0.70710678,  0.        ],\n",
       "       [ 0.        ,  0.        ,  1.        ]])"
      ]
     },
     "execution_count": 10,
     "metadata": {},
     "output_type": "execute_result"
    }
   ],
   "source": [
    "def rotation_by_3_axis(theta):\n",
    "    \"\"\"\n",
    "    Computer roatation along z-axis.\n",
    "    \n",
    "    Args:\n",
    "        theta: rotate radian \n",
    "    \"\"\"\n",
    "    cos_theta = np.cos(theta)\n",
    "    sin_theta = np.sin(theta)\n",
    "    C = np.zeros((3, 3))\n",
    "    C[0][0] = cos_theta\n",
    "    C[0][1] = sin_theta\n",
    "    C[1][0] = -sin_theta\n",
    "    C[1][1] = cos_theta\n",
    "    C[2][2] = 1.\n",
    "    return C\n",
    "\n",
    "rotation_by_3_axis(np.pi / 4) # along z-axis rotate pi / 4"
   ]
  },
  {
   "cell_type": "code",
   "execution_count": 11,
   "metadata": {
    "collapsed": false
   },
   "outputs": [
    {
     "data": {
      "text/plain": [
       "array([[ 0.70710678,  0.        , -0.70710678],\n",
       "       [ 0.        ,  1.        ,  0.        ],\n",
       "       [ 0.70710678,  0.        ,  0.70710678]])"
      ]
     },
     "execution_count": 11,
     "metadata": {},
     "output_type": "execute_result"
    }
   ],
   "source": [
    "def rotation_by_2_axis(theta):\n",
    "    \"\"\"\n",
    "    Computer roatation along z-axis.\n",
    "    \n",
    "    Args:\n",
    "        theta: rotate radian \n",
    "    \"\"\"\n",
    "    cos_theta = np.cos(theta)\n",
    "    sin_theta = np.sin(theta)\n",
    "    C = np.zeros((3, 3))\n",
    "    C[0][0] = cos_theta\n",
    "    C[0][2] = -sin_theta\n",
    "    C[2][0] = sin_theta\n",
    "    C[2][2] = cos_theta\n",
    "    C[1][1] = 1.\n",
    "    return C\n",
    "\n",
    "rotation_by_2_axis(np.pi / 4) # along z-axis rotate pi / 4"
   ]
  },
  {
   "cell_type": "code",
   "execution_count": 12,
   "metadata": {
    "collapsed": false
   },
   "outputs": [
    {
     "data": {
      "text/plain": [
       "array([[ 1.        ,  0.        ,  0.        ],\n",
       "       [ 0.        ,  0.70710678,  0.70710678],\n",
       "       [ 0.        , -0.70710678,  0.70710678]])"
      ]
     },
     "execution_count": 12,
     "metadata": {},
     "output_type": "execute_result"
    }
   ],
   "source": [
    "def rotation_by_1_axis(theta):\n",
    "    \"\"\"\n",
    "    Computer roatation along z-axis.\n",
    "    \n",
    "    Args:\n",
    "        theta: rotate radian \n",
    "    \"\"\"\n",
    "    cos_theta = np.cos(theta)\n",
    "    sin_theta = np.sin(theta)\n",
    "    C = np.zeros((3, 3))\n",
    "    C[1][1] = cos_theta\n",
    "    C[1][2] = sin_theta\n",
    "    C[2][1] = -sin_theta\n",
    "    C[2][2] = cos_theta\n",
    "    C[0][0] = 1.\n",
    "    return C\n",
    "\n",
    "rotation_by_1_axis(np.pi / 4) # along z-axis rotate pi / 4"
   ]
  },
  {
   "cell_type": "markdown",
   "metadata": {},
   "source": [
    "### 6.2.3 Alternate Rotation Representations"
   ]
  },
  {
   "cell_type": "markdown",
   "metadata": {},
   "source": [
    "**Euler Angles**"
   ]
  },
  {
   "cell_type": "code",
   "execution_count": 13,
   "metadata": {
    "collapsed": true
   },
   "outputs": [],
   "source": [
    "# equation (6.8)\n",
    "def euler_angles_3_1_3(theta, gamma, psi):\n",
    "    \"\"\"\n",
    "    Compute Euler rotation matrix in sequence 3-1-3.\n",
    "    \n",
    "    Args:\n",
    "        theta: spin angle, rotate along 3-axis\n",
    "        gamma: nutation angle, rotate along 1-axis\n",
    "        psi  : precession angle, rotate along 3-axis\n",
    "    \"\"\"\n",
    "    C_2T = rotation_by_3_axis(theta)\n",
    "    C_TI = rotation_by_1_axis(gamma)\n",
    "    C_I1 = rotation_by_3_axis(psi)\n",
    "    \n",
    "    C_21 = np.dot(C_2T, np.dot(C_TI, C_I1))\n",
    "    return C_21"
   ]
  },
  {
   "cell_type": "code",
   "execution_count": 14,
   "metadata": {
    "collapsed": false
   },
   "outputs": [
    {
     "data": {
      "text/plain": [
       "array([[-0.70710678,  0.70710678,  0.        ],\n",
       "       [-0.70710678, -0.70710678,  0.        ],\n",
       "       [ 0.        ,  0.        ,  1.        ]])"
      ]
     },
     "execution_count": 14,
     "metadata": {},
     "output_type": "execute_result"
    }
   ],
   "source": [
    "# You'll find when gamma is 0, it have singularities\n",
    "euler_angles_3_1_3(np.pi / 2, 0, np.pi/ 4)"
   ]
  },
  {
   "cell_type": "code",
   "execution_count": 15,
   "metadata": {
    "collapsed": true
   },
   "outputs": [],
   "source": [
    "# equation (6.9)\n",
    "def euler_angles_1_2_3(theta3, theta2, theta1):\n",
    "    \"\"\"\n",
    "    Compute Euler rotation matrix in sequence 1-2-3.\n",
    "    \n",
    "    Args:\n",
    "        theta3: roll, rotate along 3-axis\n",
    "        theta2: pitch, rotate along 2-axis\n",
    "        theta1: yaw, rotate along 1-axis\n",
    "    \"\"\"\n",
    "    C_3 = rotation_by_3_axis(theta3)\n",
    "    C_2 = rotation_by_2_axis(theta2)\n",
    "    C_1 = rotation_by_1_axis(theta1)\n",
    "    \n",
    "    C = np.dot(C_3, np.dot(C_2, C_1))\n",
    "    return C"
   ]
  },
  {
   "cell_type": "code",
   "execution_count": 16,
   "metadata": {
    "collapsed": false
   },
   "outputs": [
    {
     "name": "stdout",
     "output_type": "stream",
     "text": [
      "[[ 0.          0.96592583  0.25881905]\n",
      " [ 0.         -0.25881905  0.96592583]\n",
      " [ 1.          0.          0.        ]]\n"
     ]
    }
   ],
   "source": [
    "# You'll find when theta2 is PI/2, it have singularities\n",
    "C = euler_angles_1_2_3(np.pi / 3, np.pi / 2, np.pi / 4)\n",
    "C[np.abs(C) < 1e-10] = 0\n",
    "print(C)"
   ]
  },
  {
   "cell_type": "markdown",
   "metadata": {},
   "source": [
    "**Infinitesimal Rotation**"
   ]
  },
  {
   "cell_type": "code",
   "execution_count": 17,
   "metadata": {
    "collapsed": false
   },
   "outputs": [],
   "source": [
    "def euler_angles_1_2_3_approximation(theta3, theta2, theta1):\n",
    "    \"\"\"\n",
    "    Compute approximation rotation matrix, when all thetas are infinitesimal.\n",
    "    \n",
    "    Args:\n",
    "        theta3: roll, rotate along 3-axis\n",
    "        theta2: pitch, rotate along 2-axis\n",
    "        theta1: yaw, rotate along 1-axis\n",
    "    \"\"\"\n",
    "    theta = [theta1, theta2, theta3]\n",
    "    return np.identity(3) - skew_symmetric(theta)"
   ]
  },
  {
   "cell_type": "code",
   "execution_count": 18,
   "metadata": {
    "collapsed": false
   },
   "outputs": [
    {
     "name": "stdout",
     "output_type": "stream",
     "text": [
      "[[ 1.e+00  1.e-07 -1.e-05]\n",
      " [-1.e-07  1.e+00  1.e-06]\n",
      " [ 1.e-05 -1.e-06  1.e+00]]\n"
     ]
    }
   ],
   "source": [
    "theta = {'theta3': 1e-7, 'theta2': 1e-5, 'theta1': 1e-6}\n",
    "C_approximation = euler_angles_1_2_3_approximation(**theta)\n",
    "print(C_approximation)"
   ]
  },
  {
   "cell_type": "code",
   "execution_count": 19,
   "metadata": {
    "collapsed": false
   },
   "outputs": [
    {
     "name": "stdout",
     "output_type": "stream",
     "text": [
      "[[ 1.0000000e+00  1.0001000e-07 -9.9999999e-06]\n",
      " [-1.0000000e-07  1.0000000e+00  1.0000010e-06]\n",
      " [ 1.0000000e-05 -1.0000000e-06  1.0000000e+00]]\n"
     ]
    }
   ],
   "source": [
    "C_euler = euler_angles_1_2_3(**theta)\n",
    "print(C_euler)"
   ]
  },
  {
   "cell_type": "code",
   "execution_count": 21,
   "metadata": {
    "collapsed": false
   },
   "outputs": [
    {
     "name": "stdout",
     "output_type": "stream",
     "text": [
      "C_approximation - C_euler:\n",
      "[[ 5.00050001e-11 -9.99999995e-12 -1.00171717e-13]\n",
      " [-5.00016784e-18  5.05040454e-13 -9.99999828e-13]\n",
      " [ 1.66667285e-16 -5.01665851e-17  5.05000486e-11]]\n",
      "\n",
      "Frobenius Norm of the different:\n",
      "7.177757341466728e-11\n"
     ]
    }
   ],
   "source": [
    "print('C_approximation - C_euler:')\n",
    "print( C_approximation - C_euler)\n",
    "print('\\nFrobenius Norm of the different:')\n",
    "print(np.linalg.norm(C_approximation - C_euler))"
   ]
  },
  {
   "cell_type": "markdown",
   "metadata": {},
   "source": [
    "**Euler Parameters**"
   ]
  },
  {
   "cell_type": "code",
   "execution_count": null,
   "metadata": {
    "collapsed": true
   },
   "outputs": [],
   "source": []
  },
  {
   "cell_type": "code",
   "execution_count": null,
   "metadata": {
    "collapsed": true
   },
   "outputs": [],
   "source": []
  },
  {
   "cell_type": "code",
   "execution_count": null,
   "metadata": {
    "collapsed": true
   },
   "outputs": [],
   "source": []
  },
  {
   "cell_type": "code",
   "execution_count": null,
   "metadata": {
    "collapsed": true
   },
   "outputs": [],
   "source": []
  },
  {
   "cell_type": "code",
   "execution_count": null,
   "metadata": {
    "collapsed": true
   },
   "outputs": [],
   "source": []
  },
  {
   "cell_type": "code",
   "execution_count": null,
   "metadata": {
    "collapsed": true
   },
   "outputs": [],
   "source": []
  },
  {
   "cell_type": "code",
   "execution_count": null,
   "metadata": {
    "collapsed": true
   },
   "outputs": [],
   "source": []
  },
  {
   "cell_type": "code",
   "execution_count": null,
   "metadata": {
    "collapsed": true
   },
   "outputs": [],
   "source": []
  },
  {
   "cell_type": "code",
   "execution_count": null,
   "metadata": {
    "collapsed": true
   },
   "outputs": [],
   "source": []
  },
  {
   "cell_type": "code",
   "execution_count": null,
   "metadata": {
    "collapsed": true
   },
   "outputs": [],
   "source": []
  },
  {
   "cell_type": "code",
   "execution_count": null,
   "metadata": {
    "collapsed": true
   },
   "outputs": [],
   "source": []
  },
  {
   "cell_type": "code",
   "execution_count": null,
   "metadata": {
    "collapsed": true
   },
   "outputs": [],
   "source": []
  },
  {
   "cell_type": "code",
   "execution_count": null,
   "metadata": {
    "collapsed": true
   },
   "outputs": [],
   "source": []
  },
  {
   "cell_type": "code",
   "execution_count": null,
   "metadata": {
    "collapsed": true
   },
   "outputs": [],
   "source": []
  },
  {
   "cell_type": "code",
   "execution_count": null,
   "metadata": {
    "collapsed": true
   },
   "outputs": [],
   "source": []
  },
  {
   "cell_type": "code",
   "execution_count": null,
   "metadata": {
    "collapsed": true
   },
   "outputs": [],
   "source": []
  }
 ],
 "metadata": {
  "anaconda-cloud": {},
  "kernelspec": {
   "display_name": "Python [conda root]",
   "language": "python",
   "name": "conda-root-py"
  },
  "language_info": {
   "codemirror_mode": {
    "name": "ipython",
    "version": 3
   },
   "file_extension": ".py",
   "mimetype": "text/x-python",
   "name": "python",
   "nbconvert_exporter": "python",
   "pygments_lexer": "ipython3",
   "version": "3.5.2"
  },
  "nbpresent": {
   "slides": {},
   "themes": {
    "default": "b0dafe54-222a-4ba1-82e4-9352f18469a2",
    "theme": {
     "b0dafe54-222a-4ba1-82e4-9352f18469a2": {
      "backgrounds": {
       "dc7afa04-bf90-40b1-82a5-726e3cff5267": {
        "background-color": "31af15d2-7e15-44c5-ab5e-e04b16a89eff",
        "id": "dc7afa04-bf90-40b1-82a5-726e3cff5267"
       }
      },
      "id": "b0dafe54-222a-4ba1-82e4-9352f18469a2",
      "palette": {
       "19cc588f-0593-49c9-9f4b-e4d7cc113b1c": {
        "id": "19cc588f-0593-49c9-9f4b-e4d7cc113b1c",
        "rgb": [
         252,
         252,
         252
        ]
       },
       "31af15d2-7e15-44c5-ab5e-e04b16a89eff": {
        "id": "31af15d2-7e15-44c5-ab5e-e04b16a89eff",
        "rgb": [
         68,
         68,
         68
        ]
       },
       "50f92c45-a630-455b-aec3-788680ec7410": {
        "id": "50f92c45-a630-455b-aec3-788680ec7410",
        "rgb": [
         197,
         226,
         245
        ]
       },
       "c5cc3653-2ee1-402a-aba2-7caae1da4f6c": {
        "id": "c5cc3653-2ee1-402a-aba2-7caae1da4f6c",
        "rgb": [
         43,
         126,
         184
        ]
       },
       "efa7f048-9acb-414c-8b04-a26811511a21": {
        "id": "efa7f048-9acb-414c-8b04-a26811511a21",
        "rgb": [
         25.118061674008803,
         73.60176211453744,
         107.4819383259912
        ]
       }
      },
      "rules": {
       "a": {
        "color": "19cc588f-0593-49c9-9f4b-e4d7cc113b1c"
       },
       "blockquote": {
        "color": "50f92c45-a630-455b-aec3-788680ec7410",
        "font-size": 3
       },
       "code": {
        "font-family": "Anonymous Pro"
       },
       "h1": {
        "color": "19cc588f-0593-49c9-9f4b-e4d7cc113b1c",
        "font-family": "Merriweather",
        "font-size": 8
       },
       "h2": {
        "color": "19cc588f-0593-49c9-9f4b-e4d7cc113b1c",
        "font-family": "Merriweather",
        "font-size": 6
       },
       "h3": {
        "color": "50f92c45-a630-455b-aec3-788680ec7410",
        "font-family": "Lato",
        "font-size": 5.5
       },
       "h4": {
        "color": "c5cc3653-2ee1-402a-aba2-7caae1da4f6c",
        "font-family": "Lato",
        "font-size": 5
       },
       "h5": {
        "font-family": "Lato"
       },
       "h6": {
        "font-family": "Lato"
       },
       "h7": {
        "font-family": "Lato"
       },
       "li": {
        "color": "50f92c45-a630-455b-aec3-788680ec7410",
        "font-size": 3.25
       },
       "pre": {
        "font-family": "Anonymous Pro",
        "font-size": 4
       }
      },
      "text-base": {
       "color": "19cc588f-0593-49c9-9f4b-e4d7cc113b1c",
       "font-family": "Lato",
       "font-size": 4
      }
     }
    }
   }
  }
 },
 "nbformat": 4,
 "nbformat_minor": 1
}
